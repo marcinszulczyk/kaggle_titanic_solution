{
  "nbformat": 4,
  "nbformat_minor": 0,
  "metadata": {
    "colab": {
      "name": "kaggle_titanic_solution_column_cabin.ipynb",
      "provenance": [],
      "collapsed_sections": [],
      "toc_visible": true,
      "authorship_tag": "ABX9TyMN2zbMznC47Y53o347PGvQ",
      "include_colab_link": true
    },
    "kernelspec": {
      "name": "python3",
      "display_name": "Python 3"
    },
    "language_info": {
      "name": "python"
    }
  },
  "cells": [
    {
      "cell_type": "markdown",
      "metadata": {
        "id": "view-in-github",
        "colab_type": "text"
      },
      "source": [
        "<a href=\"https://colab.research.google.com/github/marcinszulczyk/kaggle_titanic_solution/blob/feature%2FMS_Eksploracja_Danych_1/kaggle_titanic_solution_column_cabin.ipynb\" target=\"_parent\"><img src=\"https://colab.research.google.com/assets/colab-badge.svg\" alt=\"Open In Colab\"/></a>"
      ]
    },
    {
      "cell_type": "markdown",
      "metadata": {
        "id": "9hIu0txoHAW7"
      },
      "source": [
        "# Analiza kolumny Cabin\n",
        "\n"
      ]
    },
    {
      "cell_type": "markdown",
      "metadata": {
        "id": "-dbM35SvluVl"
      },
      "source": [
        "# Import bibliotek"
      ]
    },
    {
      "cell_type": "code",
      "metadata": {
        "id": "lkvSo50xkiFG"
      },
      "source": [
        "import pandas as pd\n",
        "import numpy as np\n",
        "import seaborn as sns\n",
        "import matplotlib\n",
        "import matplotlib.pyplot as plt\n",
        "import plotly.express as px\n",
        "import missingno\n",
        "\n",
        "from sklearn.dummy import DummyClassifier\n",
        "from sklearn.metrics import accuracy_score"
      ],
      "execution_count": 1,
      "outputs": []
    },
    {
      "cell_type": "markdown",
      "metadata": {
        "id": "u5-1b3E1yZ3Y"
      },
      "source": [
        "# Funkcje pomocnicze"
      ]
    },
    {
      "cell_type": "code",
      "metadata": {
        "id": "2M-wFiQ4yaO9"
      },
      "source": [
        "def check_column(df, name, histogram = 1, compare = 0):\n",
        "  size = 80\n",
        "  print(\" Dane kolumny: {0:s}. Typ: {1}\".format(name,df[name].dtypes))\n",
        "  print('-' * size)\n",
        "  print(\"| {0:62s} | {1:>12}|\".format(\"Ilość wartości\", df[name].count()))\n",
        "  print(\"| {0:62s} | {1:>12}|\".format(\"Ilość wartości unikalnych\", df[name].nunique()))\n",
        "  print(\"| {0:62s} | {1:>12}|\".format(\"Ilość wartości NaN\", df[name].isna().sum()))\n",
        "  print('-' * size)\n",
        "  print('DESCRIBE:')\n",
        "  print(df[name].describe())\n",
        "  print('-' * size)\n",
        "  print('VALUE COUNTS:')\n",
        "  print(df[name].value_counts())\n",
        "  print('-' * size)\n",
        "  print('HEAD:')\n",
        "  print(df[name].head())\n",
        "  print('-' * size)\n",
        "  if histogram:\n",
        "    print('HISTOGRAM:')\n",
        "    fig = px.histogram(df, x =name, width=800)\n",
        "    fig.show() \n",
        "  if compare:\n",
        "    # print('JOINPLOT:')\n",
        "    # g = sns.jointplot(data = df, x = name, y = compare, kind = 'kde', cmap = 'rocket')\n",
        "    # g.plot_joint(plt.scatter, s = 8, marker='+')\n",
        "    # plt.show()\n",
        "    f = sns.FacetGrid(df_train, hue=compare, aspect=4)\n",
        "    f.map(sns.kdeplot,name, shade = True)\n",
        "\n",
        "    f.set(xlim=(df_train[name].min(), df_train[name].max()))\n",
        "\n",
        "    f.add_legend()\n",
        "    plt.show()"
      ],
      "execution_count": 2,
      "outputs": []
    },
    {
      "cell_type": "markdown",
      "metadata": {
        "id": "ztb_jZ0Mlxrl"
      },
      "source": [
        "# Pobranie danych danych"
      ]
    },
    {
      "cell_type": "markdown",
      "metadata": {
        "id": "IORxGtcWq063"
      },
      "source": [
        "## Link do Kaggle\n",
        "\n",
        "https://www.kaggle.com/c/titanic/overview"
      ]
    },
    {
      "cell_type": "markdown",
      "metadata": {
        "id": "871fOQS0q6eV"
      },
      "source": [
        "## Wczytanie danych"
      ]
    },
    {
      "cell_type": "code",
      "metadata": {
        "id": "hZt7RUr3ltSP"
      },
      "source": [
        "df_train = pd.read_csv(\"https://raw.githubusercontent.com/marcinszulczyk/kaggle_titanic_solution/c48ff96bbfd29c691a78a0e46e3dc2abaeec65c1/data/train.csv\")\n",
        "df_test = pd.read_csv(\"https://raw.githubusercontent.com/marcinszulczyk/kaggle_titanic_solution/c48ff96bbfd29c691a78a0e46e3dc2abaeec65c1/data/test.csv\")"
      ],
      "execution_count": 3,
      "outputs": []
    },
    {
      "cell_type": "markdown",
      "metadata": {
        "id": "ylCsPY7mqnm8"
      },
      "source": [
        "## Połączenie zbiorów danych"
      ]
    },
    {
      "cell_type": "code",
      "metadata": {
        "id": "HO-cMA_yqq5u"
      },
      "source": [
        "df_all = pd.concat([df_train, df_test])"
      ],
      "execution_count": 4,
      "outputs": []
    },
    {
      "cell_type": "markdown",
      "metadata": {
        "id": "HmhiGA7dq_yi"
      },
      "source": [
        "## Podstawowe informacje o danych"
      ]
    },
    {
      "cell_type": "markdown",
      "metadata": {
        "id": "zG_LdTfmvZQC"
      },
      "source": [
        "### Opis kolumn\n",
        "\n",
        "\n",
        "---\n",
        "\n",
        "\n",
        "**PassengerId**  \n",
        "\n",
        "ID pasażera\n",
        "\n",
        "\n",
        "---\n",
        "\n",
        "**Survived**\n",
        "\n",
        "Czy pasażer został uratowany\n",
        "\n",
        "0 - nie został uratowany\n",
        "\n",
        "1 - został uratowany\n",
        "\n",
        "---\n",
        "\n",
        "**Pclass**\n",
        "\n",
        "Klasa jaką podróżował pasażer\n",
        "\n",
        "1 - Pierwsza klasa (najwyższy standard)\n",
        "\n",
        "2 - Druga klasa\n",
        "\n",
        "3 - Trzecia klasa (najniższy standard)\n",
        "\n",
        "---\n",
        "\n",
        "**Name** \n",
        "\n",
        "Imię pasażera\n",
        "\n",
        "Imię, nazwisto, tytuł itp.\n",
        "\n",
        "---\n",
        "\n",
        "**Sex**        \n",
        "\n",
        "Płeć pasażera\n",
        "\n",
        "male - mężczyzna\n",
        "\n",
        "female - kobieta\n",
        "\n",
        "---\n",
        "\n",
        "**Age**          \n",
        "\n",
        "Wiek pasażera\n",
        "\n",
        "Jeżeli było dziecko ale nie miało rodziców to oznaczało, że podróżowało z nianią.\n",
        "\n",
        "---\n",
        "\n",
        "**SibSp**\n",
        "\n",
        "Ilość rodzeństwa na pokładzie - bracia, siostry itp.\n",
        "\n",
        "---\n",
        "\n",
        "**Parch**\n",
        "\n",
        "Ilość rodziców na pokładzie\n",
        "\n",
        "---\n",
        "\n",
        "**Ticket**\n",
        "\n",
        "Numer biletu\n",
        "\n",
        "---\n",
        "\n",
        "**Fare**\n",
        "\n",
        "Koszt biletu\n",
        "\n",
        "---\n",
        "\n",
        "**Cabin**\n",
        "\n",
        "Przedział na statu\n",
        "\n",
        "---\n",
        "\n",
        "**Embarked**\n",
        "\n",
        "Port rozpoczęcia podróży\n",
        "\n",
        "C - Cherbourg\n",
        "\n",
        "Q - Queenstown\n",
        "\n",
        "S - Southampton\n",
        "\n",
        "---"
      ]
    },
    {
      "cell_type": "markdown",
      "metadata": {
        "id": "gyS8_MUzrSHU"
      },
      "source": [
        "### Zbiory połączone"
      ]
    },
    {
      "cell_type": "code",
      "metadata": {
        "id": "twZJq5EvrVTh",
        "colab": {
          "base_uri": "https://localhost:8080/",
          "height": 206
        },
        "outputId": "0c63b424-d00e-4037-895c-bd9c9c9cd5ca"
      },
      "source": [
        "df_all.head()"
      ],
      "execution_count": 5,
      "outputs": [
        {
          "output_type": "execute_result",
          "data": {
            "text/html": [
              "<div>\n",
              "<style scoped>\n",
              "    .dataframe tbody tr th:only-of-type {\n",
              "        vertical-align: middle;\n",
              "    }\n",
              "\n",
              "    .dataframe tbody tr th {\n",
              "        vertical-align: top;\n",
              "    }\n",
              "\n",
              "    .dataframe thead th {\n",
              "        text-align: right;\n",
              "    }\n",
              "</style>\n",
              "<table border=\"1\" class=\"dataframe\">\n",
              "  <thead>\n",
              "    <tr style=\"text-align: right;\">\n",
              "      <th></th>\n",
              "      <th>PassengerId</th>\n",
              "      <th>Survived</th>\n",
              "      <th>Pclass</th>\n",
              "      <th>Name</th>\n",
              "      <th>Sex</th>\n",
              "      <th>Age</th>\n",
              "      <th>SibSp</th>\n",
              "      <th>Parch</th>\n",
              "      <th>Ticket</th>\n",
              "      <th>Fare</th>\n",
              "      <th>Cabin</th>\n",
              "      <th>Embarked</th>\n",
              "    </tr>\n",
              "  </thead>\n",
              "  <tbody>\n",
              "    <tr>\n",
              "      <th>0</th>\n",
              "      <td>1</td>\n",
              "      <td>0.0</td>\n",
              "      <td>3</td>\n",
              "      <td>Braund, Mr. Owen Harris</td>\n",
              "      <td>male</td>\n",
              "      <td>22.0</td>\n",
              "      <td>1</td>\n",
              "      <td>0</td>\n",
              "      <td>A/5 21171</td>\n",
              "      <td>7.2500</td>\n",
              "      <td>NaN</td>\n",
              "      <td>S</td>\n",
              "    </tr>\n",
              "    <tr>\n",
              "      <th>1</th>\n",
              "      <td>2</td>\n",
              "      <td>1.0</td>\n",
              "      <td>1</td>\n",
              "      <td>Cumings, Mrs. John Bradley (Florence Briggs Th...</td>\n",
              "      <td>female</td>\n",
              "      <td>38.0</td>\n",
              "      <td>1</td>\n",
              "      <td>0</td>\n",
              "      <td>PC 17599</td>\n",
              "      <td>71.2833</td>\n",
              "      <td>C85</td>\n",
              "      <td>C</td>\n",
              "    </tr>\n",
              "    <tr>\n",
              "      <th>2</th>\n",
              "      <td>3</td>\n",
              "      <td>1.0</td>\n",
              "      <td>3</td>\n",
              "      <td>Heikkinen, Miss. Laina</td>\n",
              "      <td>female</td>\n",
              "      <td>26.0</td>\n",
              "      <td>0</td>\n",
              "      <td>0</td>\n",
              "      <td>STON/O2. 3101282</td>\n",
              "      <td>7.9250</td>\n",
              "      <td>NaN</td>\n",
              "      <td>S</td>\n",
              "    </tr>\n",
              "    <tr>\n",
              "      <th>3</th>\n",
              "      <td>4</td>\n",
              "      <td>1.0</td>\n",
              "      <td>1</td>\n",
              "      <td>Futrelle, Mrs. Jacques Heath (Lily May Peel)</td>\n",
              "      <td>female</td>\n",
              "      <td>35.0</td>\n",
              "      <td>1</td>\n",
              "      <td>0</td>\n",
              "      <td>113803</td>\n",
              "      <td>53.1000</td>\n",
              "      <td>C123</td>\n",
              "      <td>S</td>\n",
              "    </tr>\n",
              "    <tr>\n",
              "      <th>4</th>\n",
              "      <td>5</td>\n",
              "      <td>0.0</td>\n",
              "      <td>3</td>\n",
              "      <td>Allen, Mr. William Henry</td>\n",
              "      <td>male</td>\n",
              "      <td>35.0</td>\n",
              "      <td>0</td>\n",
              "      <td>0</td>\n",
              "      <td>373450</td>\n",
              "      <td>8.0500</td>\n",
              "      <td>NaN</td>\n",
              "      <td>S</td>\n",
              "    </tr>\n",
              "  </tbody>\n",
              "</table>\n",
              "</div>"
            ],
            "text/plain": [
              "   PassengerId  Survived  Pclass  ...     Fare Cabin  Embarked\n",
              "0            1       0.0       3  ...   7.2500   NaN         S\n",
              "1            2       1.0       1  ...  71.2833   C85         C\n",
              "2            3       1.0       3  ...   7.9250   NaN         S\n",
              "3            4       1.0       1  ...  53.1000  C123         S\n",
              "4            5       0.0       3  ...   8.0500   NaN         S\n",
              "\n",
              "[5 rows x 12 columns]"
            ]
          },
          "metadata": {
            "tags": []
          },
          "execution_count": 5
        }
      ]
    },
    {
      "cell_type": "code",
      "metadata": {
        "id": "FjDYZ4ZerbRv",
        "colab": {
          "base_uri": "https://localhost:8080/"
        },
        "outputId": "270e8260-b68e-46bc-aec1-967fb803b84b"
      },
      "source": [
        "df_all.info()"
      ],
      "execution_count": 6,
      "outputs": [
        {
          "output_type": "stream",
          "text": [
            "<class 'pandas.core.frame.DataFrame'>\n",
            "Int64Index: 1309 entries, 0 to 417\n",
            "Data columns (total 12 columns):\n",
            " #   Column       Non-Null Count  Dtype  \n",
            "---  ------       --------------  -----  \n",
            " 0   PassengerId  1309 non-null   int64  \n",
            " 1   Survived     891 non-null    float64\n",
            " 2   Pclass       1309 non-null   int64  \n",
            " 3   Name         1309 non-null   object \n",
            " 4   Sex          1309 non-null   object \n",
            " 5   Age          1046 non-null   float64\n",
            " 6   SibSp        1309 non-null   int64  \n",
            " 7   Parch        1309 non-null   int64  \n",
            " 8   Ticket       1309 non-null   object \n",
            " 9   Fare         1308 non-null   float64\n",
            " 10  Cabin        295 non-null    object \n",
            " 11  Embarked     1307 non-null   object \n",
            "dtypes: float64(3), int64(4), object(5)\n",
            "memory usage: 132.9+ KB\n"
          ],
          "name": "stdout"
        }
      ]
    },
    {
      "cell_type": "code",
      "metadata": {
        "id": "Yl_dUaXLrebg",
        "colab": {
          "base_uri": "https://localhost:8080/",
          "height": 300
        },
        "outputId": "9a018935-deb7-4116-f683-73deea58464f"
      },
      "source": [
        "df_all.describe()"
      ],
      "execution_count": 7,
      "outputs": [
        {
          "output_type": "execute_result",
          "data": {
            "text/html": [
              "<div>\n",
              "<style scoped>\n",
              "    .dataframe tbody tr th:only-of-type {\n",
              "        vertical-align: middle;\n",
              "    }\n",
              "\n",
              "    .dataframe tbody tr th {\n",
              "        vertical-align: top;\n",
              "    }\n",
              "\n",
              "    .dataframe thead th {\n",
              "        text-align: right;\n",
              "    }\n",
              "</style>\n",
              "<table border=\"1\" class=\"dataframe\">\n",
              "  <thead>\n",
              "    <tr style=\"text-align: right;\">\n",
              "      <th></th>\n",
              "      <th>PassengerId</th>\n",
              "      <th>Survived</th>\n",
              "      <th>Pclass</th>\n",
              "      <th>Age</th>\n",
              "      <th>SibSp</th>\n",
              "      <th>Parch</th>\n",
              "      <th>Fare</th>\n",
              "    </tr>\n",
              "  </thead>\n",
              "  <tbody>\n",
              "    <tr>\n",
              "      <th>count</th>\n",
              "      <td>1309.000000</td>\n",
              "      <td>891.000000</td>\n",
              "      <td>1309.000000</td>\n",
              "      <td>1046.000000</td>\n",
              "      <td>1309.000000</td>\n",
              "      <td>1309.000000</td>\n",
              "      <td>1308.000000</td>\n",
              "    </tr>\n",
              "    <tr>\n",
              "      <th>mean</th>\n",
              "      <td>655.000000</td>\n",
              "      <td>0.383838</td>\n",
              "      <td>2.294882</td>\n",
              "      <td>29.881138</td>\n",
              "      <td>0.498854</td>\n",
              "      <td>0.385027</td>\n",
              "      <td>33.295479</td>\n",
              "    </tr>\n",
              "    <tr>\n",
              "      <th>std</th>\n",
              "      <td>378.020061</td>\n",
              "      <td>0.486592</td>\n",
              "      <td>0.837836</td>\n",
              "      <td>14.413493</td>\n",
              "      <td>1.041658</td>\n",
              "      <td>0.865560</td>\n",
              "      <td>51.758668</td>\n",
              "    </tr>\n",
              "    <tr>\n",
              "      <th>min</th>\n",
              "      <td>1.000000</td>\n",
              "      <td>0.000000</td>\n",
              "      <td>1.000000</td>\n",
              "      <td>0.170000</td>\n",
              "      <td>0.000000</td>\n",
              "      <td>0.000000</td>\n",
              "      <td>0.000000</td>\n",
              "    </tr>\n",
              "    <tr>\n",
              "      <th>25%</th>\n",
              "      <td>328.000000</td>\n",
              "      <td>0.000000</td>\n",
              "      <td>2.000000</td>\n",
              "      <td>21.000000</td>\n",
              "      <td>0.000000</td>\n",
              "      <td>0.000000</td>\n",
              "      <td>7.895800</td>\n",
              "    </tr>\n",
              "    <tr>\n",
              "      <th>50%</th>\n",
              "      <td>655.000000</td>\n",
              "      <td>0.000000</td>\n",
              "      <td>3.000000</td>\n",
              "      <td>28.000000</td>\n",
              "      <td>0.000000</td>\n",
              "      <td>0.000000</td>\n",
              "      <td>14.454200</td>\n",
              "    </tr>\n",
              "    <tr>\n",
              "      <th>75%</th>\n",
              "      <td>982.000000</td>\n",
              "      <td>1.000000</td>\n",
              "      <td>3.000000</td>\n",
              "      <td>39.000000</td>\n",
              "      <td>1.000000</td>\n",
              "      <td>0.000000</td>\n",
              "      <td>31.275000</td>\n",
              "    </tr>\n",
              "    <tr>\n",
              "      <th>max</th>\n",
              "      <td>1309.000000</td>\n",
              "      <td>1.000000</td>\n",
              "      <td>3.000000</td>\n",
              "      <td>80.000000</td>\n",
              "      <td>8.000000</td>\n",
              "      <td>9.000000</td>\n",
              "      <td>512.329200</td>\n",
              "    </tr>\n",
              "  </tbody>\n",
              "</table>\n",
              "</div>"
            ],
            "text/plain": [
              "       PassengerId    Survived  ...        Parch         Fare\n",
              "count  1309.000000  891.000000  ...  1309.000000  1308.000000\n",
              "mean    655.000000    0.383838  ...     0.385027    33.295479\n",
              "std     378.020061    0.486592  ...     0.865560    51.758668\n",
              "min       1.000000    0.000000  ...     0.000000     0.000000\n",
              "25%     328.000000    0.000000  ...     0.000000     7.895800\n",
              "50%     655.000000    0.000000  ...     0.000000    14.454200\n",
              "75%     982.000000    1.000000  ...     0.000000    31.275000\n",
              "max    1309.000000    1.000000  ...     9.000000   512.329200\n",
              "\n",
              "[8 rows x 7 columns]"
            ]
          },
          "metadata": {
            "tags": []
          },
          "execution_count": 7
        }
      ]
    },
    {
      "cell_type": "code",
      "metadata": {
        "id": "tORosgIVrjjD",
        "colab": {
          "base_uri": "https://localhost:8080/",
          "height": 690
        },
        "outputId": "4ef56d26-936a-4e62-ffd5-036502f4f8bd"
      },
      "source": [
        "missingno.matrix(df_all)"
      ],
      "execution_count": 8,
      "outputs": [
        {
          "output_type": "execute_result",
          "data": {
            "text/plain": [
              "<matplotlib.axes._subplots.AxesSubplot at 0x7fe024f05510>"
            ]
          },
          "metadata": {
            "tags": []
          },
          "execution_count": 8
        },
        {
          "output_type": "display_data",
          "data": {
            "image/png": "[encoded data removed]",
            "text/plain": [
              "<Figure size 1800x720 with 2 Axes>"
            ]
          },
          "metadata": {
            "tags": [],
            "needs_background": "light"
          }
        }
      ]
    },
    {
      "cell_type": "markdown",
      "metadata": {
        "id": "WNuLHXB9vdAM"
      },
      "source": [
        "# Uzupełnienie brakujących danych\n",
        "\n",
        "Możemy zauważyć, że braki występują w dwóch kolumnach **Age** i **Cabib**.\n",
        "W pierwszym kroku postaram się uzupełnić te braki poprzez odnalezienie rodzin które prawdopodobnie podrużowały razem.\n",
        "\n",
        "Aby to zrobić użyje algorytmu k-najbliższych sąsiadów aby określić rodziny z uwzględnieniem następujących kolumn:\n",
        "\n",
        "*   Wielkość rodziny:\n",
        "\n",
        "  - suma kolumn **SibSp** i **Parch**\n",
        "  - suma kolumn musi być różna od 0\n",
        "\n",
        "*   Nazwisko\n",
        "\n",
        "  - do wyodrębnienia z kolumny **Name**\n",
        "\n",
        "*   Ewentualnie port rozpoczecia podróży\n",
        "\n",
        "  - zakładam, że cała rodzina była zaokrętowana w jednym porcie\n",
        "\n",
        "*  Ostatnim elementem może być klasa\n",
        "\n",
        "Po wyznaczeniu tych wartości zajmę się określeniem brakujących pól w kolumnach:\n",
        "\n",
        "*   **Age**\n",
        "\n",
        "  - dla małżonków jeżeli będą brakujące dane to przyjmę, że mężczyzna jest o 2 lata starszy (eventualnie wyznaczę medianę różnic wieku)\n",
        "\n",
        "  - dla dzieci przyjmę dwa lata różnicy między rozdzeństwem, jeżeli jest jedno dziecko to przyjmę wartość średnią wieku dziecka (ewentualnie porównać ze średnią wieku dzieci dla podobnego wieku rodziców)\n",
        " \n",
        "*   **Cabin**\n",
        "\n",
        "  - zakładam, że cała rodzina była na jednym pokładzie\n",
        "\n",
        "\n",
        "\n"
      ]
    },
    {
      "cell_type": "markdown",
      "metadata": {
        "id": "WoeDCxCa0ael"
      },
      "source": [
        "## Przygotowanie zbioru danych\n",
        "\n",
        "Do prac użyję połączonego zbioru danych **df_all**"
      ]
    },
    {
      "cell_type": "markdown",
      "metadata": {
        "id": "NHE4U6vc5CQP"
      },
      "source": [
        "### Analiza kolumny Name\n",
        "\n",
        "Na podstawie opisu ze strony:\n",
        "\n",
        "https://www.kaggle.com/c/titanic/discussion/2885\n",
        "\n",
        "Using the example:\n",
        "\n",
        "Baclini, Mrs. Solomon (Latifa Qurban)\n",
        "\n",
        "Mrs. indicates that she is married\n",
        "\n",
        "Solomon is the name of her husband.   This is a (old-ish) custom where wives can be referred to by their husbands name.  For instance, if Jane Smith was married to John Smith, she could be referred to as Mrs. John Smith.\n",
        "\n",
        "Latifa is her first name.\n",
        "\n",
        "Qurban is her \"maiden\" name.  This is the family/last name that she had before getting married.\n",
        "\n",
        "Baclini is her (married) family/last name, i.e. the last name of her husband Solomon.\n",
        "\n",
        " \n",
        "\n",
        "For the example\n",
        "\n",
        "Baclini, Miss. Marie Catherine  (daughter of above)\n",
        "\n",
        "Miss indicates that she is unmarried, so parsing into first/last names becomes a bit easier. \n",
        "\n",
        "In this case Marie is her first name, Catherine is her middle name and Baclini is the family/last name.\n",
        "\n"
      ]
    },
    {
      "cell_type": "markdown",
      "metadata": {
        "id": "nfkzU18T-DLv"
      },
      "source": [
        "### Analiza kolumny Cabin"
      ]
    },
    {
      "cell_type": "code",
      "metadata": {
        "id": "RDnfeAVx_pCh",
        "colab": {
          "base_uri": "https://localhost:8080/"
        },
        "outputId": "300450dd-90e0-4809-c2f3-d14f116945ac"
      },
      "source": [
        "# wyświetlenie kolumny Cabin\n",
        "df_all['Cabin']"
      ],
      "execution_count": null,
      "outputs": [
        {
          "output_type": "execute_result",
          "data": {
            "text/plain": [
              "0       NaN\n",
              "1       C85\n",
              "2       NaN\n",
              "3      C123\n",
              "4       NaN\n",
              "       ... \n",
              "413     NaN\n",
              "414    C105\n",
              "415     NaN\n",
              "416     NaN\n",
              "417     NaN\n",
              "Name: Cabin, Length: 1309, dtype: object"
            ]
          },
          "metadata": {
            "tags": []
          },
          "execution_count": 39
        }
      ]
    },
    {
      "cell_type": "markdown",
      "metadata": {
        "id": "PI0BkPXl_cpJ"
      },
      "source": [
        "#### Sprawdzenie czy dane dla kabiny są podane"
      ]
    },
    {
      "cell_type": "code",
      "metadata": {
        "id": "pqf7YDU2_nwd",
        "colab": {
          "base_uri": "https://localhost:8080/"
        },
        "outputId": "fb6886a0-281e-4ee9-9e73-1c4b933bae59"
      },
      "source": [
        "# maska czy dany wiersz zawiera informacje\n",
        "df_all[\"Cabin\"].isnull().apply(lambda x: not x)"
      ],
      "execution_count": null,
      "outputs": [
        {
          "output_type": "execute_result",
          "data": {
            "text/plain": [
              "0      False\n",
              "1       True\n",
              "2      False\n",
              "3       True\n",
              "4      False\n",
              "       ...  \n",
              "413    False\n",
              "414     True\n",
              "415    False\n",
              "416    False\n",
              "417    False\n",
              "Name: Cabin, Length: 1309, dtype: bool"
            ]
          },
          "metadata": {
            "tags": []
          },
          "execution_count": 41
        }
      ]
    },
    {
      "cell_type": "code",
      "metadata": {
        "id": "B6Nd2XZg_2qD",
        "colab": {
          "base_uri": "https://localhost:8080/"
        },
        "outputId": "547f10a0-e61c-4682-87a3-93a3dfe4323f"
      },
      "source": [
        "df_all[\"Cabin_Data\"] = df_all[\"Cabin\"].isnull().apply(lambda x: not x)\n",
        "df_all[\"Cabin_Data\"]"
      ],
      "execution_count": null,
      "outputs": [
        {
          "output_type": "execute_result",
          "data": {
            "text/plain": [
              "0      False\n",
              "1       True\n",
              "2      False\n",
              "3       True\n",
              "4      False\n",
              "       ...  \n",
              "413    False\n",
              "414     True\n",
              "415    False\n",
              "416    False\n",
              "417    False\n",
              "Name: Cabin_Data, Length: 1309, dtype: bool"
            ]
          },
          "metadata": {
            "tags": []
          },
          "execution_count": 43
        }
      ]
    },
    {
      "cell_type": "markdown",
      "metadata": {
        "id": "EgLgm2gY-Gnb"
      },
      "source": [
        "#### Wyodrębnienie pokładu"
      ]
    },
    {
      "cell_type": "code",
      "metadata": {
        "id": "ZKkbFXp1-T9c",
        "colab": {
          "base_uri": "https://localhost:8080/"
        },
        "outputId": "e6ed9c55-1159-4f78-e42e-267d705f3132"
      },
      "source": [
        "# wyodrębnienie pokładu\n",
        "df_all['Deck'] = df_all['Cabin'].str.slice(0,1)\n",
        "df_all['Deck']"
      ],
      "execution_count": null,
      "outputs": [
        {
          "output_type": "execute_result",
          "data": {
            "text/plain": [
              "0      NaN\n",
              "1        C\n",
              "2      NaN\n",
              "3        C\n",
              "4      NaN\n",
              "      ... \n",
              "413    NaN\n",
              "414      C\n",
              "415    NaN\n",
              "416    NaN\n",
              "417    NaN\n",
              "Name: Deck, Length: 1309, dtype: object"
            ]
          },
          "metadata": {
            "tags": []
          },
          "execution_count": 48
        }
      ]
    },
    {
      "cell_type": "code",
      "metadata": {
        "id": "ZmelQ8NyAX5n",
        "colab": {
          "base_uri": "https://localhost:8080/"
        },
        "outputId": "0b2c8c7e-9e28-402f-dd46-6aac1f6c8d1a"
      },
      "source": [
        "# wyświetlenie tylko tych wierszy które istnieją\n",
        "df_all['Deck'][df_all[\"Cabin_Data\"]]"
      ],
      "execution_count": null,
      "outputs": [
        {
          "output_type": "execute_result",
          "data": {
            "text/plain": [
              "1      C\n",
              "3      C\n",
              "6      E\n",
              "10     G\n",
              "11     C\n",
              "      ..\n",
              "404    D\n",
              "405    D\n",
              "407    C\n",
              "411    C\n",
              "414    C\n",
              "Name: Deck, Length: 295, dtype: object"
            ]
          },
          "metadata": {
            "tags": []
          },
          "execution_count": 49
        }
      ]
    },
    {
      "cell_type": "markdown",
      "metadata": {
        "id": "J5zVoMMiBO3B"
      },
      "source": [
        "#### Wyodrębnienie kabiny"
      ]
    },
    {
      "cell_type": "code",
      "metadata": {
        "id": "e-HjDPyUBJqe",
        "colab": {
          "base_uri": "https://localhost:8080/"
        },
        "outputId": "4efc8fae-bbee-4d58-d746-4f47d554f9df"
      },
      "source": [
        "# wyodrębnienie pokładu\n",
        "df_all['Room'] = df_all['Cabin'].str.slice(1,5).str.extract(\"([0-9]+)\", expand=False).astype(\"float\")\n",
        "df_all['Room']"
      ],
      "execution_count": null,
      "outputs": [
        {
          "output_type": "execute_result",
          "data": {
            "text/plain": [
              "0        NaN\n",
              "1       85.0\n",
              "2        NaN\n",
              "3      123.0\n",
              "4        NaN\n",
              "       ...  \n",
              "413      NaN\n",
              "414    105.0\n",
              "415      NaN\n",
              "416      NaN\n",
              "417      NaN\n",
              "Name: Room, Length: 1309, dtype: float64"
            ]
          },
          "metadata": {
            "tags": []
          },
          "execution_count": 52
        }
      ]
    },
    {
      "cell_type": "code",
      "metadata": {
        "id": "q0BUG0t4Bl6C",
        "colab": {
          "base_uri": "https://localhost:8080/"
        },
        "outputId": "704bc963-9405-4e4c-f9f1-1703d72a9f1c"
      },
      "source": [
        "# wyświetlenie tylko tych wierszy które istnieją\n",
        "df_all['Room'][df_all[\"Cabin_Data\"]]"
      ],
      "execution_count": null,
      "outputs": [
        {
          "output_type": "execute_result",
          "data": {
            "text/plain": [
              "1       85.0\n",
              "3      123.0\n",
              "6       46.0\n",
              "10       6.0\n",
              "11     103.0\n",
              "       ...  \n",
              "404     40.0\n",
              "405     38.0\n",
              "407     80.0\n",
              "411     78.0\n",
              "414    105.0\n",
              "Name: Room, Length: 295, dtype: float64"
            ]
          },
          "metadata": {
            "tags": []
          },
          "execution_count": 53
        }
      ]
    },
    {
      "cell_type": "code",
      "metadata": {
        "id": "OD-syOrYBpTv",
        "colab": {
          "base_uri": "https://localhost:8080/",
          "height": 511
        },
        "outputId": "55839db6-6cb3-4d18-d432-0d4912de02f2"
      },
      "source": [
        "df_all"
      ],
      "execution_count": null,
      "outputs": [
        {
          "output_type": "execute_result",
          "data": {
            "text/html": [
              "<div>\n",
              "<style scoped>\n",
              "    .dataframe tbody tr th:only-of-type {\n",
              "        vertical-align: middle;\n",
              "    }\n",
              "\n",
              "    .dataframe tbody tr th {\n",
              "        vertical-align: top;\n",
              "    }\n",
              "\n",
              "    .dataframe thead th {\n",
              "        text-align: right;\n",
              "    }\n",
              "</style>\n",
              "<table border=\"1\" class=\"dataframe\">\n",
              "  <thead>\n",
              "    <tr style=\"text-align: right;\">\n",
              "      <th></th>\n",
              "      <th>PassengerId</th>\n",
              "      <th>Survived</th>\n",
              "      <th>Pclass</th>\n",
              "      <th>Name</th>\n",
              "      <th>Sex</th>\n",
              "      <th>Age</th>\n",
              "      <th>SibSp</th>\n",
              "      <th>Parch</th>\n",
              "      <th>Ticket</th>\n",
              "      <th>Fare</th>\n",
              "      <th>Cabin</th>\n",
              "      <th>Embarked</th>\n",
              "      <th>Family_Size</th>\n",
              "      <th>LastName</th>\n",
              "      <th>Title</th>\n",
              "      <th>Cabin_Data</th>\n",
              "      <th>Deck</th>\n",
              "      <th>Room</th>\n",
              "    </tr>\n",
              "  </thead>\n",
              "  <tbody>\n",
              "    <tr>\n",
              "      <th>0</th>\n",
              "      <td>1</td>\n",
              "      <td>0.0</td>\n",
              "      <td>3</td>\n",
              "      <td>Braund, Mr. Owen Harris</td>\n",
              "      <td>male</td>\n",
              "      <td>22.0</td>\n",
              "      <td>1</td>\n",
              "      <td>0</td>\n",
              "      <td>A/5 21171</td>\n",
              "      <td>7.2500</td>\n",
              "      <td>NaN</td>\n",
              "      <td>S</td>\n",
              "      <td>2</td>\n",
              "      <td>braund</td>\n",
              "      <td>mr</td>\n",
              "      <td>False</td>\n",
              "      <td>NaN</td>\n",
              "      <td>NaN</td>\n",
              "    </tr>\n",
              "    <tr>\n",
              "      <th>1</th>\n",
              "      <td>2</td>\n",
              "      <td>1.0</td>\n",
              "      <td>1</td>\n",
              "      <td>Cumings, Mrs. John Bradley (Florence Briggs Th...</td>\n",
              "      <td>female</td>\n",
              "      <td>38.0</td>\n",
              "      <td>1</td>\n",
              "      <td>0</td>\n",
              "      <td>PC 17599</td>\n",
              "      <td>71.2833</td>\n",
              "      <td>C85</td>\n",
              "      <td>C</td>\n",
              "      <td>2</td>\n",
              "      <td>cumings</td>\n",
              "      <td>mrs</td>\n",
              "      <td>True</td>\n",
              "      <td>C</td>\n",
              "      <td>85.0</td>\n",
              "    </tr>\n",
              "    <tr>\n",
              "      <th>2</th>\n",
              "      <td>3</td>\n",
              "      <td>1.0</td>\n",
              "      <td>3</td>\n",
              "      <td>Heikkinen, Miss. Laina</td>\n",
              "      <td>female</td>\n",
              "      <td>26.0</td>\n",
              "      <td>0</td>\n",
              "      <td>0</td>\n",
              "      <td>STON/O2. 3101282</td>\n",
              "      <td>7.9250</td>\n",
              "      <td>NaN</td>\n",
              "      <td>S</td>\n",
              "      <td>1</td>\n",
              "      <td>heikkinen</td>\n",
              "      <td>miss</td>\n",
              "      <td>False</td>\n",
              "      <td>NaN</td>\n",
              "      <td>NaN</td>\n",
              "    </tr>\n",
              "    <tr>\n",
              "      <th>3</th>\n",
              "      <td>4</td>\n",
              "      <td>1.0</td>\n",
              "      <td>1</td>\n",
              "      <td>Futrelle, Mrs. Jacques Heath (Lily May Peel)</td>\n",
              "      <td>female</td>\n",
              "      <td>35.0</td>\n",
              "      <td>1</td>\n",
              "      <td>0</td>\n",
              "      <td>113803</td>\n",
              "      <td>53.1000</td>\n",
              "      <td>C123</td>\n",
              "      <td>S</td>\n",
              "      <td>2</td>\n",
              "      <td>futrelle</td>\n",
              "      <td>mrs</td>\n",
              "      <td>True</td>\n",
              "      <td>C</td>\n",
              "      <td>123.0</td>\n",
              "    </tr>\n",
              "    <tr>\n",
              "      <th>4</th>\n",
              "      <td>5</td>\n",
              "      <td>0.0</td>\n",
              "      <td>3</td>\n",
              "      <td>Allen, Mr. William Henry</td>\n",
              "      <td>male</td>\n",
              "      <td>35.0</td>\n",
              "      <td>0</td>\n",
              "      <td>0</td>\n",
              "      <td>373450</td>\n",
              "      <td>8.0500</td>\n",
              "      <td>NaN</td>\n",
              "      <td>S</td>\n",
              "      <td>1</td>\n",
              "      <td>allen</td>\n",
              "      <td>mr</td>\n",
              "      <td>False</td>\n",
              "      <td>NaN</td>\n",
              "      <td>NaN</td>\n",
              "    </tr>\n",
              "    <tr>\n",
              "      <th>...</th>\n",
              "      <td>...</td>\n",
              "      <td>...</td>\n",
              "      <td>...</td>\n",
              "      <td>...</td>\n",
              "      <td>...</td>\n",
              "      <td>...</td>\n",
              "      <td>...</td>\n",
              "      <td>...</td>\n",
              "      <td>...</td>\n",
              "      <td>...</td>\n",
              "      <td>...</td>\n",
              "      <td>...</td>\n",
              "      <td>...</td>\n",
              "      <td>...</td>\n",
              "      <td>...</td>\n",
              "      <td>...</td>\n",
              "      <td>...</td>\n",
              "      <td>...</td>\n",
              "    </tr>\n",
              "    <tr>\n",
              "      <th>413</th>\n",
              "      <td>1305</td>\n",
              "      <td>NaN</td>\n",
              "      <td>3</td>\n",
              "      <td>Spector, Mr. Woolf</td>\n",
              "      <td>male</td>\n",
              "      <td>NaN</td>\n",
              "      <td>0</td>\n",
              "      <td>0</td>\n",
              "      <td>A.5. 3236</td>\n",
              "      <td>8.0500</td>\n",
              "      <td>NaN</td>\n",
              "      <td>S</td>\n",
              "      <td>1</td>\n",
              "      <td>spector</td>\n",
              "      <td>mr</td>\n",
              "      <td>False</td>\n",
              "      <td>NaN</td>\n",
              "      <td>NaN</td>\n",
              "    </tr>\n",
              "    <tr>\n",
              "      <th>414</th>\n",
              "      <td>1306</td>\n",
              "      <td>NaN</td>\n",
              "      <td>1</td>\n",
              "      <td>Oliva y Ocana, Dona. Fermina</td>\n",
              "      <td>female</td>\n",
              "      <td>39.0</td>\n",
              "      <td>0</td>\n",
              "      <td>0</td>\n",
              "      <td>PC 17758</td>\n",
              "      <td>108.9000</td>\n",
              "      <td>C105</td>\n",
              "      <td>C</td>\n",
              "      <td>1</td>\n",
              "      <td>oliva y ocana</td>\n",
              "      <td>dona</td>\n",
              "      <td>True</td>\n",
              "      <td>C</td>\n",
              "      <td>105.0</td>\n",
              "    </tr>\n",
              "    <tr>\n",
              "      <th>415</th>\n",
              "      <td>1307</td>\n",
              "      <td>NaN</td>\n",
              "      <td>3</td>\n",
              "      <td>Saether, Mr. Simon Sivertsen</td>\n",
              "      <td>male</td>\n",
              "      <td>38.5</td>\n",
              "      <td>0</td>\n",
              "      <td>0</td>\n",
              "      <td>SOTON/O.Q. 3101262</td>\n",
              "      <td>7.2500</td>\n",
              "      <td>NaN</td>\n",
              "      <td>S</td>\n",
              "      <td>1</td>\n",
              "      <td>saether</td>\n",
              "      <td>mr</td>\n",
              "      <td>False</td>\n",
              "      <td>NaN</td>\n",
              "      <td>NaN</td>\n",
              "    </tr>\n",
              "    <tr>\n",
              "      <th>416</th>\n",
              "      <td>1308</td>\n",
              "      <td>NaN</td>\n",
              "      <td>3</td>\n",
              "      <td>Ware, Mr. Frederick</td>\n",
              "      <td>male</td>\n",
              "      <td>NaN</td>\n",
              "      <td>0</td>\n",
              "      <td>0</td>\n",
              "      <td>359309</td>\n",
              "      <td>8.0500</td>\n",
              "      <td>NaN</td>\n",
              "      <td>S</td>\n",
              "      <td>1</td>\n",
              "      <td>ware</td>\n",
              "      <td>mr</td>\n",
              "      <td>False</td>\n",
              "      <td>NaN</td>\n",
              "      <td>NaN</td>\n",
              "    </tr>\n",
              "    <tr>\n",
              "      <th>417</th>\n",
              "      <td>1309</td>\n",
              "      <td>NaN</td>\n",
              "      <td>3</td>\n",
              "      <td>Peter, Master. Michael J</td>\n",
              "      <td>male</td>\n",
              "      <td>NaN</td>\n",
              "      <td>1</td>\n",
              "      <td>1</td>\n",
              "      <td>2668</td>\n",
              "      <td>22.3583</td>\n",
              "      <td>NaN</td>\n",
              "      <td>C</td>\n",
              "      <td>3</td>\n",
              "      <td>peter</td>\n",
              "      <td>master</td>\n",
              "      <td>False</td>\n",
              "      <td>NaN</td>\n",
              "      <td>NaN</td>\n",
              "    </tr>\n",
              "  </tbody>\n",
              "</table>\n",
              "<p>1309 rows × 18 columns</p>\n",
              "</div>"
            ],
            "text/plain": [
              "     PassengerId  Survived  Pclass  ... Cabin_Data Deck   Room\n",
              "0              1       0.0       3  ...      False  NaN    NaN\n",
              "1              2       1.0       1  ...       True    C   85.0\n",
              "2              3       1.0       3  ...      False  NaN    NaN\n",
              "3              4       1.0       1  ...       True    C  123.0\n",
              "4              5       0.0       3  ...      False  NaN    NaN\n",
              "..           ...       ...     ...  ...        ...  ...    ...\n",
              "413         1305       NaN       3  ...      False  NaN    NaN\n",
              "414         1306       NaN       1  ...       True    C  105.0\n",
              "415         1307       NaN       3  ...      False  NaN    NaN\n",
              "416         1308       NaN       3  ...      False  NaN    NaN\n",
              "417         1309       NaN       3  ...      False  NaN    NaN\n",
              "\n",
              "[1309 rows x 18 columns]"
            ]
          },
          "metadata": {
            "tags": []
          },
          "execution_count": 54
        }
      ]
    },
    {
      "cell_type": "markdown",
      "metadata": {
        "id": "F2Pg-CtiA_4c"
      },
      "source": [
        "# Model uczenia\n",
        "\n",
        "## Pierwszy model\n",
        "\n",
        "Wykonay w celu sprawdzenia poprawności wygenerowania wyniku i wysyłanego pliku na kaggle."
      ]
    }
  ]
}